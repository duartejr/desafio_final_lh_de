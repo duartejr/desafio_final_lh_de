{
 "cells": [
  {
   "cell_type": "code",
   "execution_count": null,
   "metadata": {},
   "outputs": [],
   "source": [
    "%load_ext autoreload\n",
    "%autoreload 2"
   ]
  },
  {
   "cell_type": "code",
   "execution_count": 39,
   "metadata": {},
   "outputs": [
    {
     "data": {
      "text/html": [
       "<table border=\"1\" class=\"dataframe\">\n",
       "  <thead>\n",
       "    <tr style=\"text-align: right;\">\n",
       "      <th></th>\n",
       "    </tr>\n",
       "  </thead>\n",
       "  <tbody>\n",
       "  </tbody>\n",
       "</table>"
      ],
      "text/plain": [
       "DataFrame[]"
      ]
     },
     "execution_count": 39,
     "metadata": {},
     "output_type": "execute_result"
    }
   ],
   "source": [
    "schema = 'sales'\n",
    "catalog = 'antonio_junior_raw'\n",
    "create_schema_sql = f\"CREATE SCHEMA IF NOT EXISTS {catalog}.sales\"\n",
    "spark.sql(create_schema_sql)"
   ]
  },
  {
   "cell_type": "code",
   "execution_count": 8,
   "metadata": {},
   "outputs": [],
   "source": [
    "password = dbutils.secrets.get(scope=\"antonio_junior_adw\", key=\"pswd_mssql\")\n",
    "host = dbutils.secrets.get(scope=\"antonio_junior_adw\", key=\"ip_mssql\")\n",
    "port = dbutils.secrets.get(scope=\"antonio_junior_adw\", key=\"port_mssql\")\n",
    "\n",
    "jdbcUrl = f\"jdbc:sqlserver://{host}:{port};databaseName=AdventureWorks;encrypt=true;trustServerCertificate=true;\"\n",
    "\n",
    "connectionProperties = {\n",
    "    \"user\": \"SA\",  # Replace \"SA\" with the appropriate username if needed\n",
    "    \"password\": password,\n",
    "    \"driver\": \"com.microsoft.sqlserver.jdbc.SQLServerDriver\"\n",
    "}\n",
    "\n"
   ]
  },
  {
   "cell_type": "code",
   "execution_count": 9,
   "metadata": {
    "application/vnd.databricks.v1+cell": {
     "cellMetadata": {
      "byteLimit": 2048000,
      "rowLimit": 10000
     },
     "inputWidgets": {},
     "nuid": "6bca260b-13d1-448f-8082-30b60a85c9ae",
     "showTitle": false,
     "title": ""
    }
   },
   "outputs": [],
   "source": [
    "query = \"\"\"\n",
    "SELECT TABLE_NAME \n",
    "FROM INFORMATION_SCHEMA.TABLES \n",
    "WHERE TABLE_SCHEMA = 'sales'\n",
    "\"\"\""
   ]
  },
  {
   "cell_type": "code",
   "execution_count": 30,
   "metadata": {},
   "outputs": [
    {
     "name": "stdout",
     "output_type": "stream",
     "text": [
      "List of tables in the 'sales' schema retrieved successfully.\n"
     ]
    }
   ],
   "source": [
    "try:\n",
    "    tables_list = spark.read.jdbc(url=jdbcUrl, table=f\"({query}) AS tmp\", properties=connectionProperties)\n",
    "    print(\"List of tables in the 'sales' schema retrieved successfully.\")\n",
    "except Exception as e:\n",
    "    print(f\"Failed to retrieve tables: {e}\")\n"
   ]
  },
  {
   "cell_type": "code",
   "execution_count": 43,
   "metadata": {},
   "outputs": [
    {
     "name": "stdout",
     "output_type": "stream",
     "text": [
      "SalesTaxRate\n",
      "PersonCreditCard\n",
      "SalesTerritory\n",
      "vIndividualCustomer\n",
      "vPersonDemographics\n",
      "vSalesPerson\n",
      "SalesTerritoryHistory\n",
      "vSalesPersonSalesByFiscalYears\n",
      "vStoreWithDemographics\n",
      "vStoreWithContacts\n",
      "vStoreWithAddresses\n",
      "ShoppingCartItem\n",
      "SpecialOffer\n",
      "SpecialOfferProduct\n",
      "Store\n",
      "CountryRegionCurrency\n",
      "CreditCard\n",
      "Currency\n",
      "CurrencyRate\n",
      "Customer\n",
      "SalesOrderDetail\n",
      "SalesOrderHeader\n",
      "SalesOrderHeaderSalesReason\n",
      "SalesPerson\n",
      "SalesPersonQuotaHistory\n",
      "SalesReason\n"
     ]
    }
   ],
   "source": [
    "for table in tables_list.toLocalIterator():\n",
    "    table_name = table.TABLE_NAME\n",
    "    print(table_name)\n",
    "    df = spark.read.jdbc(url=jdbcUrl, table=f'{schema}.{table_name}', properties=connectionProperties)\n",
    "    df.write \\\n",
    "      .format(\"delta\") \\\n",
    "      .mode(\"overwrite\") \\\n",
    "      .option(\"overwriteSchema\", \"true\") \\\n",
    "      .saveAsTable(f\"{catalog}.{schema}.{table_name}\")\n",
    "\n"
   ]
  },
  {
   "cell_type": "code",
   "execution_count": 13,
   "metadata": {},
   "outputs": [],
   "source": [
    "table = 'SalesTaxRate'\n",
    "\n",
    "\n"
   ]
  },
  {
   "cell_type": "code",
   "execution_count": 20,
   "metadata": {},
   "outputs": [
    {
     "data": {
      "text/html": [
       "<table border=\"1\" class=\"dataframe\">\n",
       "  <thead>\n",
       "    <tr style=\"text-align: right;\">\n",
       "      <th></th>\n",
       "    </tr>\n",
       "  </thead>\n",
       "  <tbody>\n",
       "  </tbody>\n",
       "</table>"
      ],
      "text/plain": [
       "DataFrame[]"
      ]
     },
     "execution_count": 20,
     "metadata": {},
     "output_type": "execute_result"
    }
   ],
   "source": [
    "\n"
   ]
  },
  {
   "cell_type": "code",
   "execution_count": 21,
   "metadata": {},
   "outputs": [
    {
     "name": "stdout",
     "output_type": "stream",
     "text": [
      "+------------------+\n",
      "|      databaseName|\n",
      "+------------------+\n",
      "|information_schema|\n",
      "|             sales|\n",
      "+------------------+\n",
      "\n"
     ]
    }
   ],
   "source": [
    "spark.sql(f\"SHOW SCHEMAS IN {catalog}\").show()\n"
   ]
  },
  {
   "cell_type": "code",
   "execution_count": 22,
   "metadata": {},
   "outputs": [],
   "source": []
  },
  {
   "cell_type": "code",
   "execution_count": null,
   "metadata": {},
   "outputs": [],
   "source": []
  }
 ],
 "metadata": {
  "application/vnd.databricks.v1+notebook": {
   "dashboards": [],
   "language": "python",
   "notebookMetadata": {
    "pythonIndentUnit": 2
   },
   "notebookName": "ipynb-notebook",
   "widgets": {}
  },
  "kernelspec": {
   "display_name": "venv",
   "language": "python",
   "name": "python3"
  },
  "language_info": {
   "codemirror_mode": {
    "name": "ipython",
    "version": 3
   },
   "file_extension": ".py",
   "mimetype": "text/x-python",
   "name": "python",
   "nbconvert_exporter": "python",
   "pygments_lexer": "ipython3",
   "version": "3.10.9"
  }
 },
 "nbformat": 4,
 "nbformat_minor": 0
}
