{
 "cells": [
  {
   "cell_type": "markdown",
   "metadata": {},
   "source": [
    "## Transform: CountryRegionCurrency"
   ]
  },
  {
   "cell_type": "code",
   "execution_count": 55,
   "metadata": {},
   "outputs": [
    {
     "name": "stdout",
     "output_type": "stream",
     "text": [
      "The autoreload extension is already loaded. To reload it, use:\n",
      "  %reload_ext autoreload\n"
     ]
    }
   ],
   "source": [
    "%load_ext autoreload\n",
    "%autoreload 2"
   ]
  },
  {
   "cell_type": "code",
   "execution_count": 56,
   "metadata": {},
   "outputs": [],
   "source": [
    "from pyspark.sql.functions import col\n",
    "from pyspark.sql import functions as F\n",
    "\n",
    "\n",
    "SCHEMA = 'sales'\n",
    "RAW_CATALOG = 'antonio_junior_raw'\n",
    "STG_CATALOG = \"antonio_junior_stg\""
   ]
  },
  {
   "cell_type": "code",
   "execution_count": 57,
   "metadata": {},
   "outputs": [],
   "source": [
    "def read_raw_df(table_name):\n",
    "    spark.sql(f\"USE CATALOG {RAW_CATALOG}\")\n",
    "    raw_df = spark.table(f\"{RAW_CATALOG}.{SCHEMA}.{table_name}\")\n",
    "    return raw_df"
   ]
  },
  {
   "cell_type": "code",
   "execution_count": 84,
   "metadata": {},
   "outputs": [],
   "source": [
    "def save_stg_df(stg_df, table_name):\n",
    "    spark.sql(f\"USE CATALOG {STG_CATALOG}\")\n",
    "    spark.sql(f\"CREATE SCHEMA IF NOT EXISTS {STG_CATALOG}.{SCHEMA}\")\n",
    "    stg_df.write.format(\"delta\").mode(\"overwrite\").saveAsTable(f\"{STG_CATALOG}.{SCHEMA}.{table_name}_stg\")\n"
   ]
  },
  {
   "cell_type": "code",
   "execution_count": 73,
   "metadata": {},
   "outputs": [],
   "source": [
    "def rename_columns(df, columns_map):\n",
    "    df = df.select(list(columns_map.keys()))\n",
    "    for original, alias in columns_map.items():\n",
    "        df = df.withColumnRenamed(original, alias)\n",
    "    \n",
    "    return df"
   ]
  },
  {
   "cell_type": "markdown",
   "metadata": {},
   "source": [
    "## Table 1: CountryRegionCurrency"
   ]
  },
  {
   "cell_type": "code",
   "execution_count": 85,
   "metadata": {},
   "outputs": [
    {
     "name": "stdout",
     "output_type": "stream",
     "text": [
      "root\n",
      " |-- CountryRegionCode: string (nullable = true)\n",
      " |-- CurrencyCode: string (nullable = true)\n",
      " |-- ModifiedDate: timestamp (nullable = true)\n",
      "\n"
     ]
    }
   ],
   "source": [
    "raw_df = read_raw_df(\"CountryRegionCurrency\")\n",
    "raw_df.printSchema()\n",
    "columns_map = {\"CountryRegionCode\": \"country_region_code\",\n",
    "               \"CurrencyCode\": \"currency_code\",\n",
    "               \"ModifiedDate\": \"modified_date\"}\n",
    "stg_df = rename_columns(raw_df, columns_map)\n",
    "save_stg_df(stg_df, 'country_region_currency')"
   ]
  },
  {
   "cell_type": "markdown",
   "metadata": {},
   "source": [
    "## Table 2: CreditCard"
   ]
  },
  {
   "cell_type": "code",
   "execution_count": 86,
   "metadata": {},
   "outputs": [
    {
     "name": "stdout",
     "output_type": "stream",
     "text": [
      "root\n",
      " |-- CreditCardID: integer (nullable = true)\n",
      " |-- CardType: string (nullable = true)\n",
      " |-- CardNumber: string (nullable = true)\n",
      " |-- ExpMonth: short (nullable = true)\n",
      " |-- ExpYear: short (nullable = true)\n",
      " |-- ModifiedDate: timestamp (nullable = true)\n",
      "\n"
     ]
    }
   ],
   "source": [
    "raw_df = read_raw_df(\"CreditCard\")\n",
    "raw_df.printSchema()\n",
    "columns_map = {\"CreditCardID\": \"credit_card_id\",\n",
    "               \"CardType\": \"card_type\",\n",
    "               \"CardNumber\": \"card_number\",\n",
    "               \"ExpMonth\": \"exp_month\",\n",
    "               \"ExpYear\": \"exp_year\",\n",
    "               \"ModifiedDate\": \"modified_date\"}\n",
    "stg_df = rename_columns(raw_df, columns_map)\n",
    "save_stg_df(stg_df, 'credit_card')"
   ]
  },
  {
   "cell_type": "markdown",
   "metadata": {},
   "source": [
    "## Table 3: Currency"
   ]
  },
  {
   "cell_type": "code",
   "execution_count": 87,
   "metadata": {},
   "outputs": [],
   "source": [
    "raw_df = read_raw_df(\"Currency\")\n",
    "columns_map = {\"CurrencyCode\": \"currency_code\",\n",
    "               \"Name\": \"name\",\n",
    "               \"ModifiedDate\": \"modified_date\"}\n",
    "stg_df = rename_columns(raw_df, columns_map)\n",
    "save_stg_df(stg_df, 'currency')"
   ]
  },
  {
   "cell_type": "markdown",
   "metadata": {},
   "source": [
    "## Table: CurrencyRate"
   ]
  },
  {
   "cell_type": "code",
   "execution_count": 88,
   "metadata": {},
   "outputs": [
    {
     "name": "stdout",
     "output_type": "stream",
     "text": [
      "root\n",
      " |-- CurrencyRateID: integer (nullable = true)\n",
      " |-- CurrencyRateDate: timestamp (nullable = true)\n",
      " |-- FromCurrencyCode: string (nullable = true)\n",
      " |-- ToCurrencyCode: string (nullable = true)\n",
      " |-- AverageRate: decimal(19,4) (nullable = true)\n",
      " |-- EndOfDayRate: decimal(19,4) (nullable = true)\n",
      " |-- ModifiedDate: timestamp (nullable = true)\n",
      "\n"
     ]
    }
   ],
   "source": [
    "raw_df = read_raw_df(\"CurrencyRate\")\n",
    "raw_df.printSchema()\n",
    "\n",
    "columns_map = {\"CurrencyRateID\": \"currency_rate_id\",\n",
    "               \"CurrencyRateDate\": \"currency_rate_date\",\n",
    "               \"FromCurrencyCode\": \"from_currency_code\",\n",
    "               \"ToCurrencyCode\": \"to_currency_code\",\n",
    "               \"AverageRate\": \"average_rate\",\n",
    "               \"EndOfDayRate\": \"end_of_day_rate\",\n",
    "               \"ModifiedDate\": \"modified_date\"}\n",
    "stg_df = rename_columns(raw_df, columns_map)\n",
    "save_stg_df(stg_df, 'currency_rate')"
   ]
  },
  {
   "cell_type": "markdown",
   "metadata": {},
   "source": [
    "## Table 4: Customer"
   ]
  },
  {
   "cell_type": "code",
   "execution_count": 89,
   "metadata": {},
   "outputs": [
    {
     "name": "stdout",
     "output_type": "stream",
     "text": [
      "root\n",
      " |-- CustomerID: integer (nullable = true)\n",
      " |-- PersonID: integer (nullable = true)\n",
      " |-- StoreID: integer (nullable = true)\n",
      " |-- TerritoryID: integer (nullable = true)\n",
      " |-- AccountNumber: string (nullable = true)\n",
      " |-- rowguid: string (nullable = true)\n",
      " |-- ModifiedDate: timestamp (nullable = true)\n",
      "\n"
     ]
    }
   ],
   "source": [
    "raw_df = read_raw_df(\"Customer\")\n",
    "raw_df.printSchema()\n",
    "columns_map = {\"CustomerID\": \"customer_id\",\n",
    "               \"PersonID\": \"person_id\",\n",
    "               \"StoreID\": \"store_id\",\n",
    "               \"TerritoryID\": \"territory_id\",\n",
    "               \"AccountNumber\": \"account_number\",\n",
    "               \"ModifiedDate\": \"modified_date\"}\n",
    "stg_df = rename_columns(raw_df, columns_map)\n",
    "save_stg_df(stg_df, 'customer')"
   ]
  },
  {
   "cell_type": "markdown",
   "metadata": {},
   "source": [
    "# Table 5: PersonCreditCard"
   ]
  },
  {
   "cell_type": "code",
   "execution_count": 90,
   "metadata": {},
   "outputs": [
    {
     "name": "stdout",
     "output_type": "stream",
     "text": [
      "root\n",
      " |-- BusinessEntityID: integer (nullable = true)\n",
      " |-- CreditCardID: integer (nullable = true)\n",
      " |-- ModifiedDate: timestamp (nullable = true)\n",
      "\n"
     ]
    }
   ],
   "source": [
    "raw_df = read_raw_df(\"PersonCreditCard\")\n",
    "raw_df.printSchema()\n",
    "columns_map = {\"BusinessEntityID\": \"business_entity_id\",\n",
    "               \"CreditCardID\": \"credit_card_id\",\n",
    "               \"ModifiedDate\": \"modified_date\"}\n",
    "stg_df = rename_columns(raw_df, columns_map)\n",
    "save_stg_df(stg_df, 'person_credit_card')"
   ]
  },
  {
   "cell_type": "markdown",
   "metadata": {},
   "source": [
    "## Table 6: SalesOrderDetail"
   ]
  },
  {
   "cell_type": "code",
   "execution_count": 91,
   "metadata": {},
   "outputs": [
    {
     "name": "stdout",
     "output_type": "stream",
     "text": [
      "root\n",
      " |-- SalesOrderID: integer (nullable = true)\n",
      " |-- SalesOrderDetailID: integer (nullable = true)\n",
      " |-- CarrierTrackingNumber: string (nullable = true)\n",
      " |-- OrderQty: short (nullable = true)\n",
      " |-- ProductID: integer (nullable = true)\n",
      " |-- SpecialOfferID: integer (nullable = true)\n",
      " |-- UnitPrice: decimal(19,4) (nullable = true)\n",
      " |-- UnitPriceDiscount: decimal(19,4) (nullable = true)\n",
      " |-- LineTotal: decimal(38,6) (nullable = true)\n",
      " |-- rowguid: string (nullable = true)\n",
      " |-- ModifiedDate: timestamp (nullable = true)\n",
      "\n"
     ]
    }
   ],
   "source": [
    "raw_df = read_raw_df(\"SalesOrderDetail\")\n",
    "raw_df.printSchema()\n",
    "columns_map = {\"SalesOrderID\": \"sales_order_id\",\n",
    "               \"SalesOrderDetailID\": \"sales_order_detail_id\",\n",
    "               \"CarrierTrackingNumber\": \"carrier_tracking_number\",\n",
    "               \"OrderQty\": \"order_qty\",\n",
    "               \"ProductID\": \"product_id\",\n",
    "               \"SpecialOfferID\": \"special_offer_id\",\n",
    "               \"UnitPrice\": \"unit_price\",\n",
    "               \"UnitPriceDiscount\": \"unit_price_discount\",\n",
    "               \"LineTotal\": \"line_total\",\n",
    "               \"ModifiedDate\": \"modified_date\"}\n",
    "stg_df = rename_columns(raw_df, columns_map)\n",
    "save_stg_df(stg_df, 'sales_order_detail')"
   ]
  },
  {
   "cell_type": "markdown",
   "metadata": {},
   "source": [
    "## Table 7: SalesOrderHeader"
   ]
  },
  {
   "cell_type": "code",
   "execution_count": 92,
   "metadata": {},
   "outputs": [
    {
     "name": "stdout",
     "output_type": "stream",
     "text": [
      "root\n",
      " |-- SalesOrderID: integer (nullable = true)\n",
      " |-- RevisionNumber: short (nullable = true)\n",
      " |-- OrderDate: timestamp (nullable = true)\n",
      " |-- DueDate: timestamp (nullable = true)\n",
      " |-- ShipDate: timestamp (nullable = true)\n",
      " |-- Status: short (nullable = true)\n",
      " |-- OnlineOrderFlag: boolean (nullable = true)\n",
      " |-- SalesOrderNumber: string (nullable = true)\n",
      " |-- PurchaseOrderNumber: string (nullable = true)\n",
      " |-- AccountNumber: string (nullable = true)\n",
      " |-- CustomerID: integer (nullable = true)\n",
      " |-- SalesPersonID: integer (nullable = true)\n",
      " |-- TerritoryID: integer (nullable = true)\n",
      " |-- BillToAddressID: integer (nullable = true)\n",
      " |-- ShipToAddressID: integer (nullable = true)\n",
      " |-- ShipMethodID: integer (nullable = true)\n",
      " |-- CreditCardID: integer (nullable = true)\n",
      " |-- CreditCardApprovalCode: string (nullable = true)\n",
      " |-- CurrencyRateID: integer (nullable = true)\n",
      " |-- SubTotal: decimal(19,4) (nullable = true)\n",
      " |-- TaxAmt: decimal(19,4) (nullable = true)\n",
      " |-- Freight: decimal(19,4) (nullable = true)\n",
      " |-- TotalDue: decimal(19,4) (nullable = true)\n",
      " |-- Comment: string (nullable = true)\n",
      " |-- rowguid: string (nullable = true)\n",
      " |-- ModifiedDate: timestamp (nullable = true)\n",
      "\n"
     ]
    }
   ],
   "source": [
    "raw_df = read_raw_df(\"SalesOrderHeader\")\n",
    "raw_df.printSchema()\n",
    "columns_map = {\"SalesOrderID\": \"sales_order_id\",\n",
    "               \"RevisionNumber\": \"revision_number\",\n",
    "               \"OrderDate\": \"order_date\",\n",
    "               \"DueDate\": \"due_date\",\n",
    "               \"ShipDate\": \"ship_date\",\n",
    "               \"Status\": \"status\",\n",
    "               \"OnlineOrderFlag\": \"online_order_flag\",\n",
    "               \"SalesOrderNumber\": \"sales_order_number\",\n",
    "               \"PurchaseOrderNumber\": \"purchase_order_number\",\n",
    "               \"AccountNumber\": \"account_number\",\n",
    "               \"CustomerID\": \"customer_id\",\n",
    "               \"SalesPersonID\": \"sales_person_id\",\n",
    "               \"TerritoryID\": \"territory_id\",\n",
    "               \"BillToAddressID\": \"bill_to_address_id\",\n",
    "               \"ShipToAddressID\": \"ship_to_address_id\",\n",
    "               \"ShipMethodID\": \"ship_method_id\",\n",
    "               \"CreditCardID\": \"credit_card_id\",\n",
    "               \"CreditCardApprovalCode\": \"credit_card_approval_code\",\n",
    "               \"CurrencyRateID\": \"currency_rate_id\",\n",
    "               \"SubTotal\": \"sub_total\",\n",
    "               \"TaxAmt\": \"tax_amt\",\n",
    "               \"Freight\": \"freight\",\n",
    "               \"TotalDue\": \"total_due\",\n",
    "               \"ModifiedDate\": \"modified_date\"}\n",
    "stg_df = rename_columns(raw_df, columns_map)\n",
    "save_stg_df(stg_df, 'sales_order_header')"
   ]
  },
  {
   "cell_type": "markdown",
   "metadata": {},
   "source": [
    "## Table 8: SalesOrderHeaderSalesReason"
   ]
  },
  {
   "cell_type": "code",
   "execution_count": 93,
   "metadata": {},
   "outputs": [
    {
     "name": "stdout",
     "output_type": "stream",
     "text": [
      "root\n",
      " |-- SalesOrderID: integer (nullable = true)\n",
      " |-- SalesReasonID: integer (nullable = true)\n",
      " |-- ModifiedDate: timestamp (nullable = true)\n",
      "\n"
     ]
    }
   ],
   "source": [
    "raw_df = read_raw_df(\"SalesOrderHeaderSalesReason\")\n",
    "raw_df.printSchema()\n",
    "columns_map = {\"SalesOrderID\": \"sales_order_id\",\n",
    "               \"SalesReasonId\": \"sales_reason_id\",\n",
    "               \"ModifiedDate\": \"modified_date\"}\n",
    "stg_df = rename_columns(raw_df, columns_map)\n",
    "save_stg_df(stg_df, 'sales_order_header_sales_reason')"
   ]
  },
  {
   "cell_type": "markdown",
   "metadata": {},
   "source": [
    "## Table 9: SalesPerson"
   ]
  },
  {
   "cell_type": "code",
   "execution_count": 95,
   "metadata": {},
   "outputs": [
    {
     "name": "stdout",
     "output_type": "stream",
     "text": [
      "root\n",
      " |-- BusinessEntityID: integer (nullable = true)\n",
      " |-- TerritoryID: integer (nullable = true)\n",
      " |-- SalesQuota: decimal(19,4) (nullable = true)\n",
      " |-- Bonus: decimal(19,4) (nullable = true)\n",
      " |-- CommissionPct: decimal(10,4) (nullable = true)\n",
      " |-- SalesYTD: decimal(19,4) (nullable = true)\n",
      " |-- SalesLastYear: decimal(19,4) (nullable = true)\n",
      " |-- rowguid: string (nullable = true)\n",
      " |-- ModifiedDate: timestamp (nullable = true)\n",
      "\n"
     ]
    }
   ],
   "source": [
    "raw_df = read_raw_df(\"SalesPerson\")\n",
    "raw_df.printSchema()\n",
    "columns_map = {\"BusinessEntityID\": \"business_entity_id\",\n",
    "               \"TerritoryID\": \"territory_id\",\n",
    "               \"SalesQuota\": \"sales_quota\",\n",
    "               \"Bonus\": \"bonus\",\n",
    "               \"CommissionPct\": \"commission_pct\",\n",
    "               \"SalesYTD\": \"sales_ytd\",\n",
    "               \"SalesLastYear\": \"sales_last_year\",\n",
    "               \"ModifiedDate\": \"modified_date\"}\n",
    "stg_df = rename_columns(raw_df, columns_map)\n",
    "save_stg_df(stg_df, 'sales_person')"
   ]
  },
  {
   "cell_type": "markdown",
   "metadata": {},
   "source": [
    "## Table 10: SalesPersonQuotaHistory"
   ]
  },
  {
   "cell_type": "code",
   "execution_count": 97,
   "metadata": {},
   "outputs": [
    {
     "name": "stdout",
     "output_type": "stream",
     "text": [
      "root\n",
      " |-- BusinessEntityID: integer (nullable = true)\n",
      " |-- QuotaDate: timestamp (nullable = true)\n",
      " |-- SalesQuota: decimal(19,4) (nullable = true)\n",
      " |-- rowguid: string (nullable = true)\n",
      " |-- ModifiedDate: timestamp (nullable = true)\n",
      "\n"
     ]
    }
   ],
   "source": [
    "raw_df = read_raw_df(\"SalesPersonQuotaHistory\")\n",
    "raw_df.printSchema()\n",
    "columns_map = {\"BusinessEntityID\": \"business_entity_id\",\n",
    "               \"QuotaDate\": \"quota_date\",\n",
    "               \"SalesQuota\": \"sales_quota\",\n",
    "               \"ModifiedDate\": \"modified_date\"}\n",
    "stg_df = rename_columns(raw_df, columns_map)\n",
    "save_stg_df(stg_df, 'sales_person_quota_history')"
   ]
  },
  {
   "cell_type": "markdown",
   "metadata": {},
   "source": [
    "## Table 11: SalesReason"
   ]
  },
  {
   "cell_type": "code",
   "execution_count": 98,
   "metadata": {},
   "outputs": [
    {
     "name": "stdout",
     "output_type": "stream",
     "text": [
      "root\n",
      " |-- SalesReasonID: integer (nullable = true)\n",
      " |-- Name: string (nullable = true)\n",
      " |-- ReasonType: string (nullable = true)\n",
      " |-- ModifiedDate: timestamp (nullable = true)\n",
      "\n"
     ]
    }
   ],
   "source": [
    "raw_df = read_raw_df(\"SalesReason\")\n",
    "raw_df.printSchema()\n",
    "columns_map = {\"SalesReasonID\": \"sales_reason_id\",\n",
    "               \"Name\": \"name\",\n",
    "               \"ReasonType\": \"reason_type\",\n",
    "               \"ModifiedDate\": \"modified_date\"}\n",
    "stg_df = rename_columns(raw_df, columns_map)\n",
    "save_stg_df(stg_df, 'sales_reason')"
   ]
  },
  {
   "cell_type": "markdown",
   "metadata": {},
   "source": [
    "## Table 12: SalesTaxRate"
   ]
  },
  {
   "cell_type": "code",
   "execution_count": 99,
   "metadata": {},
   "outputs": [
    {
     "name": "stdout",
     "output_type": "stream",
     "text": [
      "root\n",
      " |-- SalesTaxRateID: integer (nullable = true)\n",
      " |-- StateProvinceID: integer (nullable = true)\n",
      " |-- TaxType: short (nullable = true)\n",
      " |-- TaxRate: decimal(10,4) (nullable = true)\n",
      " |-- Name: string (nullable = true)\n",
      " |-- rowguid: string (nullable = true)\n",
      " |-- ModifiedDate: timestamp (nullable = true)\n",
      "\n"
     ]
    }
   ],
   "source": [
    "raw_df = read_raw_df(\"SalesTaxRate\")\n",
    "raw_df.printSchema()\n",
    "columns_map = {\"SalesTaxRateID\": \"sales_tax_rate_id\",\n",
    "               \"StateProvinceID\": \"state_province_id\",\n",
    "               \"TaxType\": \"tax_type\",\n",
    "               \"TaxRate\": \"tax_rate\",\n",
    "               \"Name\": \"name\",\n",
    "               \"ModifiedDate\": \"modified_date\"}\n",
    "stg_df = rename_columns(raw_df, columns_map)\n",
    "save_stg_df(stg_df, 'sales_tax_rate')"
   ]
  },
  {
   "cell_type": "markdown",
   "metadata": {},
   "source": [
    "## Table 13: SalesTerritory"
   ]
  },
  {
   "cell_type": "code",
   "execution_count": 100,
   "metadata": {},
   "outputs": [
    {
     "name": "stdout",
     "output_type": "stream",
     "text": [
      "root\n",
      " |-- TerritoryID: integer (nullable = true)\n",
      " |-- Name: string (nullable = true)\n",
      " |-- CountryRegionCode: string (nullable = true)\n",
      " |-- Group: string (nullable = true)\n",
      " |-- SalesYTD: decimal(19,4) (nullable = true)\n",
      " |-- SalesLastYear: decimal(19,4) (nullable = true)\n",
      " |-- CostYTD: decimal(19,4) (nullable = true)\n",
      " |-- CostLastYear: decimal(19,4) (nullable = true)\n",
      " |-- rowguid: string (nullable = true)\n",
      " |-- ModifiedDate: timestamp (nullable = true)\n",
      "\n"
     ]
    }
   ],
   "source": [
    "raw_df = read_raw_df(\"SalesTerritory\")\n",
    "raw_df.printSchema()\n",
    "columns_map = {\"TerritoryID\": \"territory_id\",\n",
    "               \"Name\": \"name\",\n",
    "               \"CountryRegionCode\": \"country_region_code\",\n",
    "               \"Group\": \"group\",\n",
    "               \"SalesYTD\": \"sales_ytd\",\n",
    "               \"SalesLastYear\": \"sales_last_year\",\n",
    "               \"CostYTD\": \"cost_ytd\",\n",
    "               \"CostLastYear\": \"cost_last_year\",\n",
    "               \"ModifiedDate\": \"modified_date\"}\n",
    "stg_df = rename_columns(raw_df, columns_map)\n",
    "save_stg_df(stg_df, 'sales_territory')"
   ]
  },
  {
   "cell_type": "markdown",
   "metadata": {},
   "source": [
    "## Table 14: SalesTerritoryHistory"
   ]
  },
  {
   "cell_type": "code",
   "execution_count": 101,
   "metadata": {},
   "outputs": [
    {
     "name": "stdout",
     "output_type": "stream",
     "text": [
      "root\n",
      " |-- BusinessEntityID: integer (nullable = true)\n",
      " |-- TerritoryID: integer (nullable = true)\n",
      " |-- StartDate: timestamp (nullable = true)\n",
      " |-- EndDate: timestamp (nullable = true)\n",
      " |-- rowguid: string (nullable = true)\n",
      " |-- ModifiedDate: timestamp (nullable = true)\n",
      "\n"
     ]
    }
   ],
   "source": [
    "raw_df = read_raw_df(\"SalesTerritoryHistory\")\n",
    "raw_df.printSchema()\n",
    "columns_map = {\"BusinessEntityID\": \"business_entity_id\",\n",
    "               \"TerritoryID\": \"territory_id\",\n",
    "               \"StartDate\": \"start_date\",\n",
    "               \"EndDate\": \"end_date\",\n",
    "               \"ModifiedDate\": \"modified_date\"}\n",
    "stg_df = rename_columns(raw_df, columns_map)\n",
    "save_stg_df(stg_df, 'sales_territory_history')"
   ]
  },
  {
   "cell_type": "markdown",
   "metadata": {},
   "source": [
    "## Table 15: ShoppingCartitem"
   ]
  },
  {
   "cell_type": "code",
   "execution_count": 103,
   "metadata": {},
   "outputs": [
    {
     "name": "stdout",
     "output_type": "stream",
     "text": [
      "root\n",
      " |-- ShoppingCartItemID: integer (nullable = true)\n",
      " |-- ShoppingCartID: string (nullable = true)\n",
      " |-- Quantity: integer (nullable = true)\n",
      " |-- ProductID: integer (nullable = true)\n",
      " |-- DateCreated: timestamp (nullable = true)\n",
      " |-- ModifiedDate: timestamp (nullable = true)\n",
      "\n"
     ]
    }
   ],
   "source": [
    "raw_df = read_raw_df(\"ShoppingCartItem\")\n",
    "raw_df.printSchema()\n",
    "columns_map = {\"ShoppingCartItemID\": \"shopping_cart_item_id\",\n",
    "               \"ShoppingCartID\": \"shopping_cart_id\",\n",
    "               \"Quantity\": \"quantity\",\n",
    "               \"ProductID\": \"product_id\",\n",
    "               \"DateCreated\": \"date_created\",\n",
    "               \"ModifiedDate\": \"modified_date\"}\n",
    "stg_df = rename_columns(raw_df, columns_map)\n",
    "save_stg_df(stg_df, 'shopping_cart_item')"
   ]
  },
  {
   "cell_type": "markdown",
   "metadata": {},
   "source": [
    "## Table 16: SpecialOffer"
   ]
  },
  {
   "cell_type": "code",
   "execution_count": 104,
   "metadata": {},
   "outputs": [
    {
     "name": "stdout",
     "output_type": "stream",
     "text": [
      "root\n",
      " |-- SpecialOfferID: integer (nullable = true)\n",
      " |-- Description: string (nullable = true)\n",
      " |-- DiscountPct: decimal(10,4) (nullable = true)\n",
      " |-- Type: string (nullable = true)\n",
      " |-- Category: string (nullable = true)\n",
      " |-- StartDate: timestamp (nullable = true)\n",
      " |-- EndDate: timestamp (nullable = true)\n",
      " |-- MinQty: integer (nullable = true)\n",
      " |-- MaxQty: integer (nullable = true)\n",
      " |-- rowguid: string (nullable = true)\n",
      " |-- ModifiedDate: timestamp (nullable = true)\n",
      "\n"
     ]
    }
   ],
   "source": [
    "raw_df = read_raw_df(\"SpecialOffer\")\n",
    "raw_df.printSchema()\n",
    "columns_map = {\"SpecialOfferID\": \"special_offer_id\",\n",
    "               \"Description\": \"description\",\n",
    "               \"DiscountPct\": \"discount_pct\",\n",
    "               \"Type\": \"type\",\n",
    "               \"Category\": \"category\",\n",
    "               \"ModifiedDate\": \"modified_date\"}\n",
    "stg_df = rename_columns(raw_df, columns_map)\n",
    "save_stg_df(stg_df, 'special_offer')"
   ]
  },
  {
   "cell_type": "markdown",
   "metadata": {},
   "source": [
    "## Table 17: SpecialOfferProduct"
   ]
  },
  {
   "cell_type": "code",
   "execution_count": 105,
   "metadata": {},
   "outputs": [
    {
     "name": "stdout",
     "output_type": "stream",
     "text": [
      "root\n",
      " |-- SpecialOfferID: integer (nullable = true)\n",
      " |-- ProductID: integer (nullable = true)\n",
      " |-- rowguid: string (nullable = true)\n",
      " |-- ModifiedDate: timestamp (nullable = true)\n",
      "\n"
     ]
    }
   ],
   "source": [
    "raw_df = read_raw_df(\"SpecialOfferProduct\")\n",
    "raw_df.printSchema()\n",
    "columns_map = {\"SpecialOfferID\": \"special_offer_id\",\n",
    "               \"ProductID\": \"product_id\",\n",
    "               \"ModifiedDate\": \"modified_date\"}\n",
    "stg_df = rename_columns(raw_df, columns_map)\n",
    "save_stg_df(stg_df, 'special_offer_product')"
   ]
  },
  {
   "cell_type": "markdown",
   "metadata": {},
   "source": [
    "## Table 18: Store"
   ]
  },
  {
   "cell_type": "code",
   "execution_count": 106,
   "metadata": {},
   "outputs": [
    {
     "name": "stdout",
     "output_type": "stream",
     "text": [
      "root\n",
      " |-- BusinessEntityID: integer (nullable = true)\n",
      " |-- Name: string (nullable = true)\n",
      " |-- SalesPersonID: integer (nullable = true)\n",
      " |-- Demographics: string (nullable = true)\n",
      " |-- rowguid: string (nullable = true)\n",
      " |-- ModifiedDate: timestamp (nullable = true)\n",
      "\n"
     ]
    }
   ],
   "source": [
    "raw_df = read_raw_df(\"Store\")\n",
    "raw_df.printSchema()\n",
    "columns_map = {\"BusinessEntityID\": \"business_entity_id\",\n",
    "               \"Name\": \"name\",\n",
    "               \"SalesPersonID\": \"sales_person_id\",\n",
    "               \"Demographics\": \"demographics\",\n",
    "               \"ModifiedDate\": \"modified_date\"}\n",
    "stg_df = rename_columns(raw_df, columns_map)\n",
    "save_stg_df(stg_df, 'store')"
   ]
  },
  {
   "cell_type": "markdown",
   "metadata": {},
   "source": []
  }
 ],
 "metadata": {
  "kernelspec": {
   "display_name": "venv",
   "language": "python",
   "name": "python3"
  },
  "language_info": {
   "codemirror_mode": {
    "name": "ipython",
    "version": 3
   },
   "file_extension": ".py",
   "mimetype": "text/x-python",
   "name": "python",
   "nbconvert_exporter": "python",
   "pygments_lexer": "ipython3",
   "version": "3.10.9"
  }
 },
 "nbformat": 4,
 "nbformat_minor": 2
}
