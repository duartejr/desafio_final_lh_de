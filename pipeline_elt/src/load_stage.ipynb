{
 "cells": [
  {
   "cell_type": "markdown",
   "metadata": {},
   "source": [
    "## Transform: CountryRegionCurrency"
   ]
  },
  {
   "cell_type": "code",
   "execution_count": 247,
   "metadata": {},
   "outputs": [
    {
     "name": "stdout",
     "output_type": "stream",
     "text": [
      "The autoreload extension is already loaded. To reload it, use:\n",
      "  %reload_ext autoreload\n"
     ]
    }
   ],
   "source": [
    "%load_ext autoreload\n",
    "%autoreload 2"
   ]
  },
  {
   "cell_type": "code",
   "execution_count": 248,
   "metadata": {},
   "outputs": [],
   "source": [
    "from pyspark.sql.functions import lit\n",
    "from delta.tables import DeltaTable\n",
    "import json"
   ]
  },
  {
   "cell_type": "code",
   "execution_count": 249,
   "metadata": {},
   "outputs": [],
   "source": [
    "with open('config.json', 'r') as f:\n",
    "    config = json.load(f)\n",
    "\n",
    "DATABASE = config[\"general\"][\"database\"]\n",
    "SCHEMA = config[\"general\"][\"schema\"]\n",
    "RAW_CATALOG = f'{config[\"general\"][\"user\"]}_raw'\n",
    "STG_CATALOG = f'{config[\"general\"][\"user\"]}_stg'\n",
    "tables_list = list(config[\"tables\"].keys())\n",
    "tables_dict = config[\"tables\"]"
   ]
  },
  {
   "cell_type": "code",
   "execution_count": 250,
   "metadata": {},
   "outputs": [
    {
     "data": {
      "text/html": [
       "<table border=\"1\" class=\"dataframe\">\n",
       "  <thead>\n",
       "    <tr style=\"text-align: right;\">\n",
       "      <th></th>\n",
       "    </tr>\n",
       "  </thead>\n",
       "  <tbody>\n",
       "  </tbody>\n",
       "</table>"
      ],
      "text/plain": [
       "DataFrame[]"
      ]
     },
     "execution_count": 250,
     "metadata": {},
     "output_type": "execute_result"
    }
   ],
   "source": [
    "cmd = f\"DROP SCHEMA IF EXISTS {STG_CATALOG}.{SCHEMA} CASCADE\"\n",
    "spark.sql(cmd)\n",
    "create_schema = f\"CREATE SCHEMA IF NOT EXISTS {STG_CATALOG}.{SCHEMA}\"\n",
    "spark.sql(create_schema)\n"
   ]
  },
  {
   "cell_type": "code",
   "execution_count": 251,
   "metadata": {},
   "outputs": [],
   "source": [
    "def read_raw_df(table_name):\n",
    "    spark.sql(f\"USE CATALOG {RAW_CATALOG}\")\n",
    "    raw_df = spark.table(f\"{RAW_CATALOG}.{SCHEMA}.{table_name}\")\n",
    "    return raw_df"
   ]
  },
  {
   "cell_type": "code",
   "execution_count": 252,
   "metadata": {},
   "outputs": [],
   "source": [
    "def save_stg_df(stg_df, table_name):\n",
    "    spark.sql(f\"USE CATALOG {STG_CATALOG}\")\n",
    "    spark.sql(f\"CREATE SCHEMA IF NOT EXISTS {STG_CATALOG}.{SCHEMA}\")\n",
    "    stg_df.write.format(\"delta\").mode(\"append\").saveAsTable(f\"{STG_CATALOG}.{SCHEMA}.{table_name}_stg\")\n"
   ]
  },
  {
   "cell_type": "code",
   "execution_count": 253,
   "metadata": {},
   "outputs": [],
   "source": [
    "def rename_columns(df, columns_map):\n",
    "    df = df.select(list(columns_map.keys()))\n",
    "    for original, alias in columns_map.items():\n",
    "        df = df.withColumnRenamed(original, alias)\n",
    "    \n",
    "    return df"
   ]
  },
  {
   "cell_type": "code",
   "execution_count": 254,
   "metadata": {},
   "outputs": [],
   "source": [
    "\n",
    "def insert_origin_columns(df, schema):\n",
    "    df = df.withColumn(\"source_name\", lit(\"adventure_works\"))\\\n",
    "           .withColumn(\"source_departament\", lit(SCHEMA))\n",
    "    return df"
   ]
  },
  {
   "cell_type": "markdown",
   "metadata": {},
   "source": [
    "## Table 1: CountryRegionCurrency"
   ]
  },
  {
   "cell_type": "code",
   "execution_count": 255,
   "metadata": {},
   "outputs": [
    {
     "name": "stdout",
     "output_type": "stream",
     "text": [
      "CountryRegionCurrency\n",
      "create\n",
      "CreditCard\n",
      "create\n",
      "Currency\n",
      "create\n",
      "CurrencyRate\n",
      "create\n",
      "Customer\n",
      "create\n",
      "PersonCreditCard\n",
      "create\n",
      "SalesOrderDetail\n",
      "create\n",
      "SalesOrderHeader\n",
      "create\n",
      "SalesOrderHeaderSalesReason\n",
      "create\n",
      "SalesPerson\n",
      "create\n",
      "SalesPersonQuotaHistory\n",
      "create\n",
      "SalesReason\n",
      "create\n",
      "SalesTaxRate\n",
      "create\n",
      "SalesTerritory\n",
      "create\n",
      "SalesTerritoryHistory\n",
      "create\n",
      "ShoppingCartItem\n",
      "create\n",
      "SpecialOffer\n",
      "create\n",
      "SpecialOfferProduct\n",
      "create\n",
      "Store\n",
      "create\n"
     ]
    }
   ],
   "source": [
    "for table in tables_list:\n",
    "    print(table)\n",
    "    raw_df = read_raw_df(table)\n",
    "    columns_map = tables_dict[table][\"stg_columns\"]\n",
    "    stg_df = rename_columns(raw_df, columns_map)\n",
    "    stg_df = insert_origin_columns(stg_df, SCHEMA)\n",
    "    stg_table_name = f\"{STG_CATALOG}.{SCHEMA}.{tables_dict[table]['stg_name']}_stg\"\n",
    "    primary_key = tables_dict[table][\"primary_key\"]\n",
    "    \n",
    "    table_exists = spark.catalog.tableExists(stg_table_name)\n",
    "\n",
    "    if table_exists:\n",
    "        if raw_df.count():\n",
    "            primary_key_columns = tables_dict[table][\"primary_key\"]\n",
    "            merge_condition = \" AND \".join([f\"target.{col} = source.{col}\" for col in primary_key_columns])\n",
    "    \n",
    "            delta_table = DeltaTable.forName(spark, stg_table_name)\n",
    "            # Perform the merge operation if the table exists\n",
    "            delta_table.alias(\"target\").merge(\n",
    "                stg_df.alias(\"source\"),\n",
    "                merge_condition\n",
    "            ).whenMatchedUpdateAll().whenNotMatchedInsertAll().execute()\n",
    "        else:\n",
    "            print('Nothing to update')\n",
    "    else:\n",
    "        # Create the Delta table if it doesn't exist\n",
    "        stg_df.write.format(\"delta\").saveAsTable(stg_table_name )"
   ]
  }
 ],
 "metadata": {
  "kernelspec": {
   "display_name": "venv",
   "language": "python",
   "name": "python3"
  },
  "language_info": {
   "codemirror_mode": {
    "name": "ipython",
    "version": 3
   },
   "file_extension": ".py",
   "mimetype": "text/x-python",
   "name": "python",
   "nbconvert_exporter": "python",
   "pygments_lexer": "ipython3",
   "version": "3.10.9"
  }
 },
 "nbformat": 4,
 "nbformat_minor": 2
}
