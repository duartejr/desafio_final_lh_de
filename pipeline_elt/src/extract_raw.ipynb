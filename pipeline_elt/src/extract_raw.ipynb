{
 "cells": [
  {
   "cell_type": "markdown",
   "metadata": {},
   "source": [
    "# Extract all tables in `sales` schema"
   ]
  },
  {
   "cell_type": "code",
   "execution_count": 1,
   "metadata": {},
   "outputs": [],
   "source": [
    "%load_ext autoreload\n",
    "%autoreload 2"
   ]
  },
  {
   "cell_type": "code",
   "execution_count": 15,
   "metadata": {},
   "outputs": [],
   "source": [
    "from delta.tables import DeltaTable\n",
    "import json\n",
    "from datetime import datetime, timedelta\n"
   ]
  },
  {
   "cell_type": "code",
   "execution_count": 3,
   "metadata": {},
   "outputs": [],
   "source": [
    "with open('config.json', 'r') as f:\n",
    "    config = json.load(f)"
   ]
  },
  {
   "cell_type": "markdown",
   "metadata": {},
   "source": [
    "## Control variables"
   ]
  },
  {
   "cell_type": "code",
   "execution_count": 21,
   "metadata": {},
   "outputs": [],
   "source": [
    "schema = config[\"general\"][\"schema\"]\n",
    "catalog = f'{config[\"general\"][\"user\"]}_raw'\n",
    "db_password = dbutils.secrets.get(scope=\"antonio_junior_adw\", key=\"pswd_mssql\")\n",
    "db_host = dbutils.secrets.get(scope=\"antonio_junior_adw\", key=\"ip_mssql\")\n",
    "db_port = dbutils.secrets.get(scope=\"antonio_junior_adw\", key=\"port_mssql\")\n",
    "db_user = config[\"general\"][\"db_user\"]\n",
    "database =  config[\"general\"][\"database\"]\n",
    "tables_list = list(config[\"tables\"].keys())\n",
    "last_modified_date = datetime.today() - timedelta(days=1)\n",
    "last_modified_date = last_modified_date.strftime('%Y-%m-%d 00:00:00')\n"
   ]
  },
  {
   "cell_type": "markdown",
   "metadata": {},
   "source": [
    "Connections vars"
   ]
  },
  {
   "cell_type": "code",
   "execution_count": 19,
   "metadata": {},
   "outputs": [],
   "source": [
    "jdbc_url = f\"jdbc:sqlserver://{db_host}:{db_port};databaseName={database};encrypt=true;trustServerCertificate=true;\"\n",
    "\n",
    "connection_properties = {\n",
    "    \"user\": db_user, \n",
    "    \"password\": db_password,\n",
    "    \"driver\": \"com.microsoft.sqlserver.jdbc.SQLServerDriver\"\n",
    "}"
   ]
  },
  {
   "cell_type": "markdown",
   "metadata": {},
   "source": [
    "# SQL QUERIES"
   ]
  },
  {
   "cell_type": "markdown",
   "metadata": {},
   "source": [
    "List tables in schema"
   ]
  },
  {
   "cell_type": "markdown",
   "metadata": {},
   "source": [
    "Create schema"
   ]
  },
  {
   "cell_type": "code",
   "execution_count": 20,
   "metadata": {},
   "outputs": [],
   "source": [
    "create_schema = f\"CREATE SCHEMA IF NOT EXISTS {catalog}.{schema}\""
   ]
  },
  {
   "cell_type": "markdown",
   "metadata": {},
   "source": [
    "## Extraction steps"
   ]
  },
  {
   "cell_type": "markdown",
   "metadata": {},
   "source": [
    "Extract all data from each table."
   ]
  },
  {
   "cell_type": "code",
   "execution_count": null,
   "metadata": {},
   "outputs": [
    {
     "name": "stdout",
     "output_type": "stream",
     "text": [
      "CountryRegionCurrency\n",
      "(SELECT * FROM sales.CountryRegionCurrency WHERE ModifiedDate > '2025-01-19 00:00:00') AS subquery\n"
     ]
    }
   ],
   "source": [
    "for table_name in tables_list:\n",
    "    delta_table_name = f\"{catalog}.{schema}.{table_name}\"\n",
    "    print(table_name)\n",
    "    # SQL query to fetch incremental data\n",
    "    query = f\"(SELECT * FROM {schema}.{table_name} WHERE ModifiedDate > '{last_modified_date}') AS subquery\"\n",
    "    print(query)\n",
    "\n",
    "    incremental_df = spark.read.jdbc(\n",
    "        url=jdbc_url,\n",
    "        table=query,\n",
    "        properties=connection_properties\n",
    "    )\n",
    "\n",
    "    incremental_df.write.mode(\"overwrite\").format(\"delta\").saveAsTable(delta_table_name)\n",
    "\n",
    "    # Check if the Delta table exists\n",
    "    # try:\n",
    "    #     delta_table = DeltaTable.forName(spark, delta_table_name)\n",
    "    #     table_exists = True\n",
    "    # except:\n",
    "    #     table_exists = False\n",
    "    \n",
    "    # print(config[\"tables\"][table_name])\n",
    "    \n",
    "    # if table_exists:\n",
    "    #     # Perform the merge operation if the table exists\n",
    "    #     delta_table.alias(\"target\").merge(\n",
    "    #         incremental_df.alias(\"source\"),\n",
    "    #         \"target. = source.CustomerID\"  # Use the appropriate unique identifier\n",
    "    #     ).whenMatchedUpdateAll().whenNotMatchedInsertAll().execute()\n",
    "    # else:\n",
    "    #     # Create the Delta table if it doesn't exist\n",
    "    #     incremental_df.write.format(\"delta\").saveAsTable(delta_table_name)\n",
    "\n",
    "    break"
   ]
  },
  {
   "cell_type": "code",
   "execution_count": null,
   "metadata": {},
   "outputs": [],
   "source": []
  },
  {
   "cell_type": "markdown",
   "metadata": {},
   "source": []
  }
 ],
 "metadata": {
  "kernelspec": {
   "display_name": "venv",
   "language": "python",
   "name": "python3"
  },
  "language_info": {
   "codemirror_mode": {
    "name": "ipython",
    "version": 3
   },
   "file_extension": ".py",
   "mimetype": "text/x-python",
   "name": "python",
   "nbconvert_exporter": "python",
   "pygments_lexer": "ipython3",
   "version": "3.10.9"
  }
 },
 "nbformat": 4,
 "nbformat_minor": 2
}
