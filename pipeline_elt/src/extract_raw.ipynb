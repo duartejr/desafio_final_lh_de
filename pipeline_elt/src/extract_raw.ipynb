{
 "cells": [
  {
   "cell_type": "markdown",
   "metadata": {},
   "source": [
    "# Extract all tables in `sales` schema"
   ]
  },
  {
   "cell_type": "code",
   "execution_count": 62,
   "metadata": {},
   "outputs": [
    {
     "name": "stdout",
     "output_type": "stream",
     "text": [
      "The autoreload extension is already loaded. To reload it, use:\n",
      "  %reload_ext autoreload\n"
     ]
    }
   ],
   "source": [
    "%load_ext autoreload\n",
    "%autoreload 2"
   ]
  },
  {
   "cell_type": "code",
   "execution_count": 63,
   "metadata": {},
   "outputs": [],
   "source": [
    "import json\n",
    "from datetime import datetime, timedelta\n",
    "from pyspark.sql.functions import lit\n"
   ]
  },
  {
   "cell_type": "code",
   "execution_count": 64,
   "metadata": {},
   "outputs": [],
   "source": [
    "with open('config.json', 'r') as f:\n",
    "    config = json.load(f)"
   ]
  },
  {
   "cell_type": "markdown",
   "metadata": {},
   "source": [
    "## Control variables"
   ]
  },
  {
   "cell_type": "code",
   "execution_count": 65,
   "metadata": {},
   "outputs": [],
   "source": [
    "schema = config[\"general\"][\"schema\"]\n",
    "catalog = f'{config[\"general\"][\"user\"]}_raw'\n",
    "db_password = dbutils.secrets.get(scope=\"antonio_junior_adw\", key=\"pswd_mssql\")\n",
    "db_host = dbutils.secrets.get(scope=\"antonio_junior_adw\", key=\"ip_mssql\")\n",
    "db_port = dbutils.secrets.get(scope=\"antonio_junior_adw\", key=\"port_mssql\")\n",
    "db_user = config[\"general\"][\"db_user\"]\n",
    "database =  config[\"general\"][\"database\"]\n",
    "tables_list = list(config[\"tables\"].keys())\n",
    "last_modified_date = datetime.today() - timedelta(days=7)\n",
    "last_modified_date = last_modified_date.strftime('%Y-%m-%d 00:00:00')\n",
    "last_modified_date = \"2007-01-01 00:00:00\""
   ]
  },
  {
   "cell_type": "markdown",
   "metadata": {},
   "source": [
    "Connections vars"
   ]
  },
  {
   "cell_type": "code",
   "execution_count": 66,
   "metadata": {},
   "outputs": [],
   "source": [
    "jdbc_url = f\"jdbc:sqlserver://{db_host}:{db_port};databaseName={database};encrypt=true;trustServerCertificate=true;\"\n",
    "\n",
    "connection_properties = {\n",
    "    \"user\": db_user, \n",
    "    \"password\": db_password,\n",
    "    \"driver\": \"com.microsoft.sqlserver.jdbc.SQLServerDriver\"\n",
    "}"
   ]
  },
  {
   "cell_type": "markdown",
   "metadata": {},
   "source": [
    "# SQL QUERIES"
   ]
  },
  {
   "cell_type": "markdown",
   "metadata": {},
   "source": [
    "List tables in schema"
   ]
  },
  {
   "cell_type": "markdown",
   "metadata": {},
   "source": [
    "Create schema"
   ]
  },
  {
   "cell_type": "code",
   "execution_count": 68,
   "metadata": {},
   "outputs": [
    {
     "data": {
      "text/html": [
       "<table border=\"1\" class=\"dataframe\">\n",
       "  <thead>\n",
       "    <tr style=\"text-align: right;\">\n",
       "      <th></th>\n",
       "    </tr>\n",
       "  </thead>\n",
       "  <tbody>\n",
       "  </tbody>\n",
       "</table>"
      ],
      "text/plain": [
       "DataFrame[]"
      ]
     },
     "execution_count": 68,
     "metadata": {},
     "output_type": "execute_result"
    }
   ],
   "source": [
    "create_schema = f\"CREATE SCHEMA IF NOT EXISTS {catalog}.{schema}\"\n",
    "spark.sql(create_schema)\n"
   ]
  },
  {
   "cell_type": "markdown",
   "metadata": {},
   "source": [
    "## Extraction steps"
   ]
  },
  {
   "cell_type": "markdown",
   "metadata": {},
   "source": [
    "Extract all data from each table."
   ]
  },
  {
   "cell_type": "code",
   "execution_count": 69,
   "metadata": {},
   "outputs": [
    {
     "name": "stdout",
     "output_type": "stream",
     "text": [
      "CountryRegionCurrency\n",
      "CreditCard\n",
      "Currency\n",
      "CurrencyRate\n",
      "Customer\n",
      "PersonCreditCard\n",
      "SalesOrderDetail\n",
      "SalesOrderHeader\n",
      "SalesOrderHeaderSalesReason\n",
      "SalesPerson\n",
      "SalesPersonQuotaHistory\n",
      "SalesReason\n",
      "SalesTaxRate\n",
      "SalesTerritory\n",
      "SalesTerritoryHistory\n",
      "ShoppingCartItem\n",
      "SpecialOffer\n",
      "SpecialOfferProduct\n",
      "Store\n"
     ]
    }
   ],
   "source": [
    "for table_name in tables_list:\n",
    "    delta_table_name = f\"{catalog}.{schema}.{table_name}\"\n",
    "    print(table_name)\n",
    "\n",
    "    query = f\"(SELECT * FROM {schema}.{table_name} WHERE ModifiedDate >= '{last_modified_date}') AS subquery\"\n",
    "\n",
    "    incremental_df = spark.read.jdbc(\n",
    "        url=jdbc_url,\n",
    "        table=query,\n",
    "        properties=connection_properties\n",
    "    )\n",
    "\n",
    "    incremental_df = incremental_df.withColumn(\"extract_date\", lit(datetime.today()))\n",
    "\n",
    "    incremental_df.write.mode(\"overwrite\").format(\"delta\").saveAsTable(delta_table_name)"
   ]
  }
 ],
 "metadata": {
  "kernelspec": {
   "display_name": "venv",
   "language": "python",
   "name": "python3"
  },
  "language_info": {
   "codemirror_mode": {
    "name": "ipython",
    "version": 3
   },
   "file_extension": ".py",
   "mimetype": "text/x-python",
   "name": "python",
   "nbconvert_exporter": "python",
   "pygments_lexer": "ipython3",
   "version": "3.10.9"
  }
 },
 "nbformat": 4,
 "nbformat_minor": 2
}
