{
 "cells": [
  {
   "cell_type": "markdown",
   "metadata": {},
   "source": [
    "# Extract all tables in `sales` schema"
   ]
  },
  {
   "cell_type": "code",
   "execution_count": 17,
   "metadata": {},
   "outputs": [
    {
     "name": "stdout",
     "output_type": "stream",
     "text": [
      "The autoreload extension is already loaded. To reload it, use:\n",
      "  %reload_ext autoreload\n"
     ]
    }
   ],
   "source": [
    "%load_ext autoreload\n",
    "%autoreload 2"
   ]
  },
  {
   "cell_type": "markdown",
   "metadata": {},
   "source": [
    "Import necessary packages"
   ]
  },
  {
   "cell_type": "code",
   "execution_count": 18,
   "metadata": {},
   "outputs": [],
   "source": [
    "import json\n",
    "from pyspark.sql.functions import lit\n",
    "from datetime import datetime, timedelta\n",
    "from concurrent.futures import ThreadPoolExecutor"
   ]
  },
  {
   "cell_type": "markdown",
   "metadata": {},
   "source": [
    "Open json file with control variables of the task."
   ]
  },
  {
   "cell_type": "code",
   "execution_count": 19,
   "metadata": {},
   "outputs": [],
   "source": [
    "with open('config.json', 'r') as f:\n",
    "    config = json.load(f)"
   ]
  },
  {
   "cell_type": "markdown",
   "metadata": {},
   "source": [
    "Define constants"
   ]
  },
  {
   "cell_type": "code",
   "execution_count": 20,
   "metadata": {},
   "outputs": [],
   "source": [
    "schema = config[\"general\"][\"schema\"]\n",
    "catalog = f'{config[\"general\"][\"user\"]}_raw'\n",
    "db_password = dbutils.secrets.get(scope=\"antonio_junior_adw\", key=\"pswd_mssql\")\n",
    "db_host = dbutils.secrets.get(scope=\"antonio_junior_adw\", key=\"ip_mssql\")\n",
    "db_port = dbutils.secrets.get(scope=\"antonio_junior_adw\", key=\"port_mssql\")\n",
    "db_user = config[\"general\"][\"db_user\"]\n",
    "database =  config[\"general\"][\"database\"]\n",
    "tables_list = list(config[\"tables\"].keys())\n",
    "last_modified_date = datetime.today() - timedelta(days=7)\n",
    "last_modified_date = last_modified_date.strftime('%Y-%m-%d 00:00:00')\n",
    "last_modified_date = \"2007-01-01 00:00:00\""
   ]
  },
  {
   "cell_type": "markdown",
   "metadata": {},
   "source": [
    "Connections vars"
   ]
  },
  {
   "cell_type": "code",
   "execution_count": 21,
   "metadata": {},
   "outputs": [],
   "source": [
    "jdbc_url = f\"jdbc:sqlserver://{db_host}:{db_port};databaseName={database};encrypt=true;trustServerCertificate=true;\"\n",
    "\n",
    "connection_properties = {\n",
    "    \"user\": db_user, \n",
    "    \"password\": db_password,\n",
    "    \"driver\": \"com.microsoft.sqlserver.jdbc.SQLServerDriver\"\n",
    "}"
   ]
  },
  {
   "cell_type": "markdown",
   "metadata": {},
   "source": [
    "## Extraction steps"
   ]
  },
  {
   "cell_type": "markdown",
   "metadata": {},
   "source": [
    "Extract all data from each table."
   ]
  },
  {
   "cell_type": "code",
   "execution_count": 7,
   "metadata": {},
   "outputs": [],
   "source": [
    "def extract_data(table_name):\n",
    "    delta_table_name = f\"{catalog}.{schema}.{table_name}\"\n",
    "    print(\"Extracting data to:\", table_name)\n",
    "\n",
    "    query = f\"(SELECT * FROM {schema}.{table_name} WHERE ModifiedDate >= '{last_modified_date}') AS subquery\"\n",
    "\n",
    "    incremental_df = spark.read.jdbc(\n",
    "        url=jdbc_url,\n",
    "        table=query,\n",
    "        properties=connection_properties\n",
    "    )\n",
    "\n",
    "    incremental_df = incremental_df.withColumn(\"extract_date\", lit(datetime.today()))\n",
    "\n",
    "    incremental_df.write.mode(\"overwrite\").format(\"delta\").saveAsTable(delta_table_name)"
   ]
  },
  {
   "cell_type": "code",
   "execution_count": 10,
   "metadata": {},
   "outputs": [
    {
     "name": "stdout",
     "output_type": "stream",
     "text": [
      "Extracting data to: CountryRegionCurrency\n",
      "Extracting data to: Currency\n",
      "Extracting data to: CurrencyRate\n",
      "Extracting data to: Customer\n",
      "Extracting data to: PersonCreditCard\n",
      "Extracting data to: SalesOrderDetail\n",
      "Extracting data to: SalesOrderHeader\n",
      "Extracting data to: SalesOrderHeaderSalesReason\n",
      "Extracting data to: SalesPerson\n",
      "Extracting data to: SalesPersonQuotaHistory\n",
      "Extracting data to: SalesReason\n",
      "Extracting data to: SalesTaxRate\n",
      "Extracting data to: SalesTerritory\n",
      "Extracting data to: SalesTerritoryHistory\n",
      "Extracting data to: ShoppingCartItem\n",
      "Extracting data to: SpecialOffer\n",
      "Extracting data to: SpecialOfferProduct\n",
      "Extracting data to: Store\n"
     ]
    }
   ],
   "source": [
    "with ThreadPoolExecutor(max_workers=8) as executor:\n",
    "    executor.map(extract_data, tables_list)"
   ]
  },
  {
   "cell_type": "code",
   "execution_count": null,
   "metadata": {},
   "outputs": [],
   "source": [
    "%python\n",
    "from pyspark.sql import SparkSession\n",
    "\n",
    "# Initialize Spark session\n",
    "spark = SparkSession.builder.appName(\"AddTagsToTablesAndSchemas\").getOrCreate()\n",
    "\n",
    "# List of tables in the catalog 'raw'\n",
    "tables = [\n",
    "    \"antonio_junior_raw.sales.countryregioncurrency\",\n",
    "    # Add other tables here\n",
    "]\n",
    "\n",
    "# Add tag to each table\n",
    "for table in tables:\n",
    "    spark.sql(f\"\"\"\n",
    "    ALTER TABLE {table}\n",
    "    SET TBLPROPERTIES (\n",
    "      'eaw_data' = 'true'\n",
    "    )\n",
    "    \"\"\")\n",
    "\n",
    "# List of schemas in the catalog 'raw'\n",
    "schemas = [\n",
    "    \"antonio_junior_raw.sales\",\n",
    "    # Add other schemas here\n",
    "]\n",
    "\n",
    "# Add comment to each schema\n",
    "for schema in schemas:\n",
    "    spark.sql(f\"\"\"\n",
    "    COMMENT ON SCHEMA {schema} IS 'eaw_data=true'\n",
    "    \"\"\")"
   ]
  }
 ],
 "metadata": {
  "kernelspec": {
   "display_name": "venv",
   "language": "python",
   "name": "python3"
  },
  "language_info": {
   "codemirror_mode": {
    "name": "ipython",
    "version": 3
   },
   "file_extension": ".py",
   "mimetype": "text/x-python",
   "name": "python",
   "nbconvert_exporter": "python",
   "pygments_lexer": "ipython3",
   "version": "3.10.9"
  }
 },
 "nbformat": 4,
 "nbformat_minor": 2
}
