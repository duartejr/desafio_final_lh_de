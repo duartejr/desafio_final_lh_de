{
 "cells": [
  {
   "cell_type": "markdown",
   "metadata": {},
   "source": [
    "# Extract all tables in `sales` schema"
   ]
  },
  {
   "cell_type": "code",
   "execution_count": 1,
   "metadata": {},
   "outputs": [],
   "source": [
    "%load_ext autoreload\n",
    "%autoreload 2"
   ]
  },
  {
   "cell_type": "markdown",
   "metadata": {},
   "source": [
    "## Control variables"
   ]
  },
  {
   "cell_type": "markdown",
   "metadata": {},
   "source": [
    "Constants"
   ]
  },
  {
   "cell_type": "code",
   "execution_count": 5,
   "metadata": {},
   "outputs": [],
   "source": [
    "SCHEMA = 'sales'\n",
    "CATALOG = 'antonio_junior_raw'\n",
    "DB_PASSWORD = dbutils.secrets.get(scope=\"antonio_junior_adw\", key=\"pswd_mssql\")\n",
    "DB_HOST = dbutils.secrets.get(scope=\"antonio_junior_adw\", key=\"ip_mssql\")\n",
    "DB_PORT = dbutils.secrets.get(scope=\"antonio_junior_adw\", key=\"port_mssql\")\n",
    "DB_USER = \"SA\"\n",
    "DATABASE = \"AdventureWorks\""
   ]
  },
  {
   "cell_type": "markdown",
   "metadata": {},
   "source": [
    "Connections vars"
   ]
  },
  {
   "cell_type": "code",
   "execution_count": 10,
   "metadata": {},
   "outputs": [],
   "source": [
    "jdbc_url = f\"jdbc:sqlserver://{DB_HOST}:{DB_PORT};databaseName={DATABASE};encrypt=true;trustServerCertificate=true;\"\n",
    "\n",
    "connection_properties = {\n",
    "    \"user\": DB_USER, \n",
    "    \"password\": DB_PASSWORD,\n",
    "    \"driver\": \"com.microsoft.sqlserver.jdbc.SQLServerDriver\"\n",
    "}"
   ]
  },
  {
   "cell_type": "markdown",
   "metadata": {},
   "source": [
    "# SQL QUERIES"
   ]
  },
  {
   "cell_type": "markdown",
   "metadata": {},
   "source": [
    "List tables in schema"
   ]
  },
  {
   "cell_type": "code",
   "execution_count": 7,
   "metadata": {},
   "outputs": [],
   "source": [
    "list_tables = f\"\"\"\n",
    "SELECT TABLE_NAME \n",
    "FROM INFORMATION_SCHEMA.TABLES \n",
    "WHERE TABLE_SCHEMA = '{SCHEMA}'\n",
    "\"\"\""
   ]
  },
  {
   "cell_type": "markdown",
   "metadata": {},
   "source": [
    "Create schema"
   ]
  },
  {
   "cell_type": "code",
   "execution_count": 9,
   "metadata": {},
   "outputs": [],
   "source": [
    "create_schema = f\"CREATE SCHEMA IF NOT EXISTS {CATALOG}.sales\""
   ]
  },
  {
   "cell_type": "markdown",
   "metadata": {},
   "source": [
    "## Extraction steps"
   ]
  },
  {
   "cell_type": "markdown",
   "metadata": {},
   "source": [
    "Get tables list into the schema."
   ]
  },
  {
   "cell_type": "code",
   "execution_count": 11,
   "metadata": {},
   "outputs": [
    {
     "name": "stdout",
     "output_type": "stream",
     "text": [
      "List of tables in the 'sales' schema retrieved successfully.\n"
     ]
    }
   ],
   "source": [
    "try:\n",
    "    tables_list = spark.read.jdbc(url=jdbc_url, \n",
    "                                  table=f\"({list_tables}) AS tmp\", \n",
    "                                  properties=connection_properties)\n",
    "    print(\"List of tables in the 'sales' schema retrieved successfully.\")\n",
    "except Exception as e:\n",
    "    print(f\"Failed to retrieve tables: {e}\")\n"
   ]
  },
  {
   "cell_type": "markdown",
   "metadata": {},
   "source": [
    "Extract all data from each table."
   ]
  },
  {
   "cell_type": "code",
   "execution_count": null,
   "metadata": {},
   "outputs": [],
   "source": [
    "for table in tables_list.toLocalIterator():\n",
    "    table_name = table.TABLE_NAME\n",
    "    print(table_name)\n",
    "    df = spark.read.jdbc(url=jdbc_url,\n",
    "                         table=f'{SCHEMA}.{table_name}', \n",
    "                         properties=connection_properties)\n",
    "    df.write \\\n",
    "      .format(\"delta\") \\\n",
    "      .mode(\"overwrite\") \\\n",
    "      .option(\"overwriteSchema\", \"true\") \\\n",
    "      .saveAsTable(f\"{CATALOG}.{SCHEMA}.{table_name}\")"
   ]
  },
  {
   "cell_type": "code",
   "execution_count": null,
   "metadata": {},
   "outputs": [],
   "source": []
  },
  {
   "cell_type": "markdown",
   "metadata": {},
   "source": []
  }
 ],
 "metadata": {
  "kernelspec": {
   "display_name": "venv",
   "language": "python",
   "name": "python3"
  },
  "language_info": {
   "codemirror_mode": {
    "name": "ipython",
    "version": 3
   },
   "file_extension": ".py",
   "mimetype": "text/x-python",
   "name": "python",
   "nbconvert_exporter": "python",
   "pygments_lexer": "ipython3",
   "version": "3.10.9"
  }
 },
 "nbformat": 4,
 "nbformat_minor": 2
}
