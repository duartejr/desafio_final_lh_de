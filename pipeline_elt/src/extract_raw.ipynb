{
 "cells": [
  {
   "cell_type": "markdown",
   "metadata": {},
   "source": [
    "# Extract all tables in `sales` schema"
   ]
  },
  {
   "cell_type": "markdown",
   "metadata": {},
   "source": [
    "## Environment configuration"
   ]
  },
  {
   "cell_type": "code",
   "execution_count": 1,
   "metadata": {},
   "outputs": [],
   "source": [
    "%load_ext autoreload\n",
    "%autoreload 2"
   ]
  },
  {
   "cell_type": "markdown",
   "metadata": {},
   "source": [
    "Import necessary packages"
   ]
  },
  {
   "cell_type": "code",
   "execution_count": 8,
   "metadata": {},
   "outputs": [
    {
     "data": {
      "text/plain": [
       "'dev'"
      ]
     },
     "execution_count": 8,
     "metadata": {},
     "output_type": "execute_result"
    }
   ],
   "source": [
    "dbutils.widgets.dropdown(\"environment\", \"dev\", [\"dev\", \"prod\"], \"Environment\")\n",
    "environment = dbutils.widgets.get(\"environment\")\n",
    "environment"
   ]
  },
  {
   "cell_type": "code",
   "execution_count": 18,
   "metadata": {},
   "outputs": [],
   "source": [
    "import json\n",
    "from pyspark.sql.functions import lit\n",
    "from datetime import datetime, timedelta\n",
    "from concurrent.futures import ThreadPoolExecutor"
   ]
  },
  {
   "cell_type": "markdown",
   "metadata": {},
   "source": [
    "Open json file with control variables of the task."
   ]
  },
  {
   "cell_type": "code",
   "execution_count": 19,
   "metadata": {},
   "outputs": [],
   "source": [
    "with open('tables_mapping.json', 'r') as f:\n",
    "    config = json.load(f)"
   ]
  },
  {
   "cell_type": "markdown",
   "metadata": {},
   "source": [
    "Define constants"
   ]
  },
  {
   "cell_type": "code",
   "execution_count": 20,
   "metadata": {},
   "outputs": [],
   "source": [
    "SCHEMA = config[\"general\"][\"schema\"]\n",
    "CATALOG = f'{config[\"general\"][\"user\"]}_raw'\n",
    "DB_PASSWORD = dbutils.secrets.get(scope=\"antonio_junior_adw\", key=\"pswd_mssql\")\n",
    "DB_HOST = dbutils.secrets.get(scope=\"antonio_junior_adw\", key=\"ip_mssql\")\n",
    "DB_PORT = dbutils.secrets.get(scope=\"antonio_junior_adw\", key=\"port_mssql\")\n",
    "DB_USER = config[\"general\"][\"db_user\"]\n",
    "DATABASE =  config[\"general\"][\"database\"]\n",
    "TABLES_LIST = list(config[\"tables\"].keys())\n",
    "environment = dbutils.configuration.get(\"environment\")"
   ]
  },
  {
   "cell_type": "markdown",
   "metadata": {},
   "source": [
    "The time window for data extraction defaults to the last seven days."
   ]
  },
  {
   "cell_type": "code",
   "execution_count": null,
   "metadata": {},
   "outputs": [],
   "source": [
    "last_modified_date = datetime.today() - timedelta(days=7)\n",
    "last_modified_date = last_modified_date.strftime('%Y-%m-%d 00:00:00')\n",
    "last_modified_date = \"2007-01-01 00:00:00\""
   ]
  },
  {
   "cell_type": "markdown",
   "metadata": {},
   "source": [
    "Defines the JDBC connection string for the database."
   ]
  },
  {
   "cell_type": "code",
   "execution_count": 21,
   "metadata": {},
   "outputs": [],
   "source": [
    "jdbc_url = f\"jdbc:sqlserver://{DB_HOST}:{DB_PORT};databaseName={DATABASE};encrypt=true;trustServerCertificate=true;\"\n",
    "\n",
    "connection_properties = {\n",
    "    \"user\": DB_USER, \n",
    "    \"password\": DB_PASSWORD,\n",
    "    \"driver\": \"com.microsoft.sqlserver.jdbc.SQLServerDriver\"\n",
    "}"
   ]
  },
  {
   "cell_type": "markdown",
   "metadata": {},
   "source": [
    "## Extraction steps"
   ]
  },
  {
   "cell_type": "markdown",
   "metadata": {},
   "source": [
    "Defines a function to extract the desired data from each table."
   ]
  },
  {
   "cell_type": "code",
   "execution_count": 7,
   "metadata": {},
   "outputs": [],
   "source": [
    "def extract_data(table_name: str) -> None:\n",
    "    \"\"\"\n",
    "    A function to extract data from a table.\n",
    "\n",
    "    Args:\n",
    "        table_name (str): The table name in the database.\n",
    "    \"\"\"\n",
    "    # Define the destination path\n",
    "    delta_table_name = f\"{CATALOG}.{SCHEMA}.raw_{environment}_{table_name}\"\n",
    "    print(\"Extracting data to:\", table_name)\n",
    "\n",
    "    # Query to select data accoding with the ModifiedDate column\n",
    "    query = f\"(SELECT * FROM {SCHEMA}.{table_name} WHERE ModifiedDate >= '{last_modified_date}') AS subquery\"\n",
    "\n",
    "    # Read data from the database\n",
    "    df = spark.read.jdbc(\n",
    "        url=jdbc_url,\n",
    "        table=query,\n",
    "        properties=connection_properties\n",
    "    )\n",
    "\n",
    "    # Insert a column into the dataframe with the extraction date\n",
    "    df = df.withColumn(\"extract_date\", lit(datetime.today()))\n",
    "\n",
    "    # Save the df into the destination path\n",
    "    df.write.mode(\"overwrite\").format(\"delta\").saveAsTable(delta_table_name)"
   ]
  },
  {
   "cell_type": "markdown",
   "metadata": {},
   "source": [
    "The extraction runs in parallel, processing all tables listed in `tables_mapping.json."
   ]
  },
  {
   "cell_type": "code",
   "execution_count": 10,
   "metadata": {},
   "outputs": [
    {
     "name": "stdout",
     "output_type": "stream",
     "text": [
      "Extracting data to: CountryRegionCurrency\n",
      "Extracting data to: Currency\n",
      "Extracting data to: CurrencyRate\n",
      "Extracting data to: Customer\n",
      "Extracting data to: PersonCreditCard\n",
      "Extracting data to: SalesOrderDetail\n",
      "Extracting data to: SalesOrderHeader\n",
      "Extracting data to: SalesOrderHeaderSalesReason\n",
      "Extracting data to: SalesPerson\n",
      "Extracting data to: SalesPersonQuotaHistory\n",
      "Extracting data to: SalesReason\n",
      "Extracting data to: SalesTaxRate\n",
      "Extracting data to: SalesTerritory\n",
      "Extracting data to: SalesTerritoryHistory\n",
      "Extracting data to: ShoppingCartItem\n",
      "Extracting data to: SpecialOffer\n",
      "Extracting data to: SpecialOfferProduct\n",
      "Extracting data to: Store\n"
     ]
    }
   ],
   "source": [
    "with ThreadPoolExecutor(max_workers=8) as executor:\n",
    "    executor.map(extract_data, TABLES_LIST)"
   ]
  }
 ],
 "metadata": {
  "kernelspec": {
   "display_name": "venv",
   "language": "python",
   "name": "python3"
  },
  "language_info": {
   "codemirror_mode": {
    "name": "ipython",
    "version": 3
   },
   "file_extension": ".py",
   "mimetype": "text/x-python",
   "name": "python",
   "nbconvert_exporter": "python",
   "pygments_lexer": "ipython3",
   "version": "3.10.9"
  }
 },
 "nbformat": 4,
 "nbformat_minor": 2
}
